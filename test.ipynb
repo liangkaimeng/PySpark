{
 "cells": [
  {
   "cell_type": "code",
   "execution_count": 4,
   "metadata": {
    "collapsed": true
   },
   "outputs": [],
   "source": [
    "import os\n",
    "import pyspark.sql.types as typ\n",
    "from pyspark.sql import SparkSession\n",
    "\n",
    "os.environ['JAVA_HOME'] = 'D:\\JAVA\\jdk'  # 这里的路径为java的bin目录所在路径\n",
    "spark=SparkSession.builder.getOrCreate()"
   ]
  },
  {
   "cell_type": "code",
   "execution_count": 7,
   "outputs": [],
   "source": [
    "### 导入数据\n",
    "# 指定schema\n",
    "labels = [ ('INFANT_ALIVE_AT_REPORT', typ.IntegerType()),\n",
    "           ('BIRTH_PLACE', typ.StringType()),\n",
    "           ('MOTHER_AGE_YEARS', typ.IntegerType()),\n",
    "           ('FATHER_COMBINED_AGE', typ.IntegerType()),\n",
    "           ('CIG_BEFORE', typ.IntegerType()),\n",
    "           ('CIG_1_TRI', typ.IntegerType()),\n",
    "           ('CIG_2_TRI', typ.IntegerType()),\n",
    "           ('CIG_3_TRI', typ.IntegerType()),\n",
    "           ('MOTHER_HEIGHT_IN', typ.IntegerType()),\n",
    "           ('MOTHER_PRE_WEIGHT', typ.IntegerType()),\n",
    "           ('MOTHER_DELIVERY_WEIGHT', typ.IntegerType()),\n",
    "           ('MOTHER_WEIGHT_GAIN', typ.IntegerType()),\n",
    "           ('DIABETES_PRE', typ.IntegerType()),\n",
    "           ('DIABETES_GEST', typ.IntegerType()),\n",
    "           ('HYP_TENS_PRE', typ.IntegerType()),\n",
    "           ('HYP_TENS_GEST', typ.IntegerType()),\n",
    "           ('PREV_BIRTH_PRETERM', typ.IntegerType())]\n",
    "schema = typ.StructType([\n",
    "    typ.StructField(e[0], e[1], False) for e in labels\n",
    "])\n",
    "\n",
    "births = spark.read.csv(r\"D:\\LKM\\births_transformed\\data\\births_transformed.csv.gz\",\n",
    "                        header=True,\n",
    "                        schema=schema)"
   ],
   "metadata": {
    "collapsed": false,
    "pycharm": {
     "name": "#%%\n"
    }
   }
  },
  {
   "cell_type": "code",
   "execution_count": 8,
   "outputs": [
    {
     "name": "stdout",
     "output_type": "stream",
     "text": [
      "+----------------------+-----------+----------------+-------------------+----------+---------+---------+---------+----------------+-----------------+----------------------+------------------+------------+-------------+------------+-------------+------------------+\n",
      "|INFANT_ALIVE_AT_REPORT|BIRTH_PLACE|MOTHER_AGE_YEARS|FATHER_COMBINED_AGE|CIG_BEFORE|CIG_1_TRI|CIG_2_TRI|CIG_3_TRI|MOTHER_HEIGHT_IN|MOTHER_PRE_WEIGHT|MOTHER_DELIVERY_WEIGHT|MOTHER_WEIGHT_GAIN|DIABETES_PRE|DIABETES_GEST|HYP_TENS_PRE|HYP_TENS_GEST|PREV_BIRTH_PRETERM|\n",
      "+----------------------+-----------+----------------+-------------------+----------+---------+---------+---------+----------------+-----------------+----------------------+------------------+------------+-------------+------------+-------------+------------------+\n",
      "|                     0|          1|              29|                 99|         0|        0|        0|        0|              99|              999|                   999|                99|           0|            0|           0|            0|                 0|\n",
      "|                     0|          1|              22|                 29|         0|        0|        0|        0|              65|              180|                   198|                18|           0|            0|           0|            0|                 0|\n",
      "|                     0|          1|              38|                 40|         0|        0|        0|        0|              63|              155|                   167|                12|           0|            0|           0|            0|                 0|\n",
      "|                     0|          1|              39|                 42|         0|        0|        0|        0|              60|              128|                   152|                24|           0|            0|           0|            0|                 1|\n",
      "|                     0|          1|              18|                 99|         6|        4|        2|        2|              61|              110|                   130|                20|           0|            0|           0|            0|                 0|\n",
      "|                     0|          1|              32|                 37|         0|        0|        0|        0|              66|              150|                   162|                12|           0|            0|           0|            0|                 0|\n",
      "|                     0|          1|              22|                 25|         0|        0|        0|        0|              68|              155|                   191|                36|           0|            0|           0|            0|                 0|\n",
      "|                     0|          1|              25|                 26|         0|        0|        0|        0|              64|              136|                   169|                33|           0|            0|           0|            0|                 0|\n",
      "|                     0|          1|              26|                 32|         0|        0|        0|        0|              64|              140|                   147|                 7|           0|            0|           0|            0|                 0|\n",
      "|                     0|          1|              39|                 66|         0|        0|        0|        0|              65|              140|                   150|                10|           0|            0|           0|            0|                 0|\n",
      "|                     0|          1|              25|                 22|         0|        0|        0|        0|              62|              145|                   152|                 7|           0|            0|           0|            0|                 0|\n",
      "|                     0|          1|              33|                 99|         0|        0|        0|        0|              65|              145|                   145|                 0|           0|            0|           0|            0|                 0|\n",
      "|                     0|          1|              25|                 99|         0|        0|        0|        0|              64|              140|                   165|                25|           0|            0|           0|            0|                 0|\n",
      "|                     0|          1|              29|                 99|         0|        0|        0|        0|              60|              115|                   120|                 5|           0|            0|           0|            0|                 0|\n",
      "|                     0|          1|              28|                 29|         0|        0|        0|        0|              66|              320|                   318|                 0|           0|            0|           1|            0|                 1|\n",
      "|                     0|          1|              23|                 28|         0|        0|        0|        0|              64|              120|                   141|                21|           0|            0|           0|            0|                 0|\n",
      "|                     0|          1|              31|                 41|         0|        0|        0|        0|              59|              106|                   142|                36|           0|            0|           0|            0|                 1|\n",
      "|                     0|          1|              27|                 99|         0|        0|        0|        0|              66|              213|                   200|                 0|           0|            0|           0|            0|                 0|\n",
      "|                     0|          1|              28|                 27|         0|        0|        0|        0|              66|              165|                   224|                59|           0|            0|           0|            0|                 1|\n",
      "|                     0|          1|              34|                 31|         0|        0|        0|        0|              70|              130|                   134|                 4|           0|            0|           0|            0|                 0|\n",
      "+----------------------+-----------+----------------+-------------------+----------+---------+---------+---------+----------------+-----------------+----------------------+------------------+------------+-------------+------------+-------------+------------------+\n",
      "only showing top 20 rows\n",
      "\n"
     ]
    }
   ],
   "source": [
    "### 数据预览\n",
    "births.show()"
   ],
   "metadata": {
    "collapsed": false,
    "pycharm": {
     "name": "#%%\n"
    }
   }
  },
  {
   "cell_type": "code",
   "execution_count": null,
   "outputs": [],
   "source": [
    "\n"
   ],
   "metadata": {
    "collapsed": false,
    "pycharm": {
     "name": "#%%\n"
    }
   }
  }
 ],
 "metadata": {
  "kernelspec": {
   "name": "lkm",
   "language": "python",
   "display_name": "Python [conda env:lkm]"
  },
  "language_info": {
   "codemirror_mode": {
    "name": "ipython",
    "version": 2
   },
   "file_extension": ".py",
   "mimetype": "text/x-python",
   "name": "python",
   "nbconvert_exporter": "python",
   "pygments_lexer": "ipython2",
   "version": "2.7.6"
  }
 },
 "nbformat": 4,
 "nbformat_minor": 0
}